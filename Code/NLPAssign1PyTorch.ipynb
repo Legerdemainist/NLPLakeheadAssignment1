{
  "nbformat": 4,
  "nbformat_minor": 0,
  "metadata": {
    "colab": {
      "name": "NLPAssign1PyTorch.ipynb",
      "provenance": [],
      "collapsed_sections": []
    },
    "kernelspec": {
      "name": "python3",
      "display_name": "Python 3"
    },
    "accelerator": "GPU"
  },
  "cells": [
    {
      "cell_type": "code",
      "metadata": {
        "id": "KLqo-03lTaMN",
        "colab_type": "code",
        "colab": {}
      },
      "source": [
        "import pandas as pd\n",
        "from sklearn.model_selection import train_test_split\n",
        "import numpy as np\n",
        "import pandas as pd\n",
        "from sklearn.model_selection import train_test_split\n",
        "import numpy as np"
      ],
      "execution_count": 0,
      "outputs": []
    },
    {
      "cell_type": "code",
      "metadata": {
        "id": "KdUtUTTiTnBx",
        "colab_type": "code",
        "outputId": "8b3bdfb0-4305-4219-e143-a93fff168431",
        "colab": {
          "base_uri": "https://localhost:8080/",
          "height": 363
        }
      },
      "source": [
        "dataset = pd.read_csv('/content/drive/My Drive/housing.csv')\n",
        "dataset = dataset.dropna()\n",
        "dataset.head(10)"
      ],
      "execution_count": 2,
      "outputs": [
        {
          "output_type": "execute_result",
          "data": {
            "text/html": [
              "<div>\n",
              "<style scoped>\n",
              "    .dataframe tbody tr th:only-of-type {\n",
              "        vertical-align: middle;\n",
              "    }\n",
              "\n",
              "    .dataframe tbody tr th {\n",
              "        vertical-align: top;\n",
              "    }\n",
              "\n",
              "    .dataframe thead th {\n",
              "        text-align: right;\n",
              "    }\n",
              "</style>\n",
              "<table border=\"1\" class=\"dataframe\">\n",
              "  <thead>\n",
              "    <tr style=\"text-align: right;\">\n",
              "      <th></th>\n",
              "      <th>longitude</th>\n",
              "      <th>latitude</th>\n",
              "      <th>housing_median_age</th>\n",
              "      <th>total_rooms</th>\n",
              "      <th>total_bedrooms</th>\n",
              "      <th>population</th>\n",
              "      <th>households</th>\n",
              "      <th>median_income</th>\n",
              "      <th>median_house_value</th>\n",
              "      <th>ocean_proximity</th>\n",
              "    </tr>\n",
              "  </thead>\n",
              "  <tbody>\n",
              "    <tr>\n",
              "      <th>0</th>\n",
              "      <td>-122.23</td>\n",
              "      <td>37.88</td>\n",
              "      <td>41.0</td>\n",
              "      <td>880.0</td>\n",
              "      <td>129.0</td>\n",
              "      <td>322.0</td>\n",
              "      <td>126.0</td>\n",
              "      <td>8.3252</td>\n",
              "      <td>452600.0</td>\n",
              "      <td>NEAR BAY</td>\n",
              "    </tr>\n",
              "    <tr>\n",
              "      <th>1</th>\n",
              "      <td>-122.22</td>\n",
              "      <td>37.86</td>\n",
              "      <td>21.0</td>\n",
              "      <td>7099.0</td>\n",
              "      <td>1106.0</td>\n",
              "      <td>2401.0</td>\n",
              "      <td>1138.0</td>\n",
              "      <td>8.3014</td>\n",
              "      <td>358500.0</td>\n",
              "      <td>NEAR BAY</td>\n",
              "    </tr>\n",
              "    <tr>\n",
              "      <th>2</th>\n",
              "      <td>-122.24</td>\n",
              "      <td>37.85</td>\n",
              "      <td>52.0</td>\n",
              "      <td>1467.0</td>\n",
              "      <td>190.0</td>\n",
              "      <td>496.0</td>\n",
              "      <td>177.0</td>\n",
              "      <td>7.2574</td>\n",
              "      <td>352100.0</td>\n",
              "      <td>NEAR BAY</td>\n",
              "    </tr>\n",
              "    <tr>\n",
              "      <th>3</th>\n",
              "      <td>-122.25</td>\n",
              "      <td>37.85</td>\n",
              "      <td>52.0</td>\n",
              "      <td>1274.0</td>\n",
              "      <td>235.0</td>\n",
              "      <td>558.0</td>\n",
              "      <td>219.0</td>\n",
              "      <td>5.6431</td>\n",
              "      <td>341300.0</td>\n",
              "      <td>NEAR BAY</td>\n",
              "    </tr>\n",
              "    <tr>\n",
              "      <th>4</th>\n",
              "      <td>-122.25</td>\n",
              "      <td>37.85</td>\n",
              "      <td>52.0</td>\n",
              "      <td>1627.0</td>\n",
              "      <td>280.0</td>\n",
              "      <td>565.0</td>\n",
              "      <td>259.0</td>\n",
              "      <td>3.8462</td>\n",
              "      <td>342200.0</td>\n",
              "      <td>NEAR BAY</td>\n",
              "    </tr>\n",
              "    <tr>\n",
              "      <th>5</th>\n",
              "      <td>-122.25</td>\n",
              "      <td>37.85</td>\n",
              "      <td>52.0</td>\n",
              "      <td>919.0</td>\n",
              "      <td>213.0</td>\n",
              "      <td>413.0</td>\n",
              "      <td>193.0</td>\n",
              "      <td>4.0368</td>\n",
              "      <td>269700.0</td>\n",
              "      <td>NEAR BAY</td>\n",
              "    </tr>\n",
              "    <tr>\n",
              "      <th>6</th>\n",
              "      <td>-122.25</td>\n",
              "      <td>37.84</td>\n",
              "      <td>52.0</td>\n",
              "      <td>2535.0</td>\n",
              "      <td>489.0</td>\n",
              "      <td>1094.0</td>\n",
              "      <td>514.0</td>\n",
              "      <td>3.6591</td>\n",
              "      <td>299200.0</td>\n",
              "      <td>NEAR BAY</td>\n",
              "    </tr>\n",
              "    <tr>\n",
              "      <th>7</th>\n",
              "      <td>-122.25</td>\n",
              "      <td>37.84</td>\n",
              "      <td>52.0</td>\n",
              "      <td>3104.0</td>\n",
              "      <td>687.0</td>\n",
              "      <td>1157.0</td>\n",
              "      <td>647.0</td>\n",
              "      <td>3.1200</td>\n",
              "      <td>241400.0</td>\n",
              "      <td>NEAR BAY</td>\n",
              "    </tr>\n",
              "    <tr>\n",
              "      <th>8</th>\n",
              "      <td>-122.26</td>\n",
              "      <td>37.84</td>\n",
              "      <td>42.0</td>\n",
              "      <td>2555.0</td>\n",
              "      <td>665.0</td>\n",
              "      <td>1206.0</td>\n",
              "      <td>595.0</td>\n",
              "      <td>2.0804</td>\n",
              "      <td>226700.0</td>\n",
              "      <td>NEAR BAY</td>\n",
              "    </tr>\n",
              "    <tr>\n",
              "      <th>9</th>\n",
              "      <td>-122.25</td>\n",
              "      <td>37.84</td>\n",
              "      <td>52.0</td>\n",
              "      <td>3549.0</td>\n",
              "      <td>707.0</td>\n",
              "      <td>1551.0</td>\n",
              "      <td>714.0</td>\n",
              "      <td>3.6912</td>\n",
              "      <td>261100.0</td>\n",
              "      <td>NEAR BAY</td>\n",
              "    </tr>\n",
              "  </tbody>\n",
              "</table>\n",
              "</div>"
            ],
            "text/plain": [
              "   longitude  latitude  ...  median_house_value  ocean_proximity\n",
              "0    -122.23     37.88  ...            452600.0         NEAR BAY\n",
              "1    -122.22     37.86  ...            358500.0         NEAR BAY\n",
              "2    -122.24     37.85  ...            352100.0         NEAR BAY\n",
              "3    -122.25     37.85  ...            341300.0         NEAR BAY\n",
              "4    -122.25     37.85  ...            342200.0         NEAR BAY\n",
              "5    -122.25     37.85  ...            269700.0         NEAR BAY\n",
              "6    -122.25     37.84  ...            299200.0         NEAR BAY\n",
              "7    -122.25     37.84  ...            241400.0         NEAR BAY\n",
              "8    -122.26     37.84  ...            226700.0         NEAR BAY\n",
              "9    -122.25     37.84  ...            261100.0         NEAR BAY\n",
              "\n",
              "[10 rows x 10 columns]"
            ]
          },
          "metadata": {
            "tags": []
          },
          "execution_count": 2
        }
      ]
    },
    {
      "cell_type": "code",
      "metadata": {
        "id": "Tc6173RnB0p5",
        "colab_type": "code",
        "outputId": "f2bb3f38-1b1c-4832-e16b-a60ae9c4dba8",
        "colab": {
          "base_uri": "https://localhost:8080/",
          "height": 447
        }
      },
      "source": [
        "dataset.iloc[0:20].plot(subplots=True, layout=(9,1))"
      ],
      "execution_count": 3,
      "outputs": [
        {
          "output_type": "execute_result",
          "data": {
            "text/plain": [
              "array([[<matplotlib.axes._subplots.AxesSubplot object at 0x7f85ed7dde10>],\n",
              "       [<matplotlib.axes._subplots.AxesSubplot object at 0x7f85ed7c9ba8>],\n",
              "       [<matplotlib.axes._subplots.AxesSubplot object at 0x7f85ed78e048>],\n",
              "       [<matplotlib.axes._subplots.AxesSubplot object at 0x7f85ed73c4a8>],\n",
              "       [<matplotlib.axes._subplots.AxesSubplot object at 0x7f85ed6ec908>],\n",
              "       [<matplotlib.axes._subplots.AxesSubplot object at 0x7f85ed6a1d68>],\n",
              "       [<matplotlib.axes._subplots.AxesSubplot object at 0x7f85ed6db208>],\n",
              "       [<matplotlib.axes._subplots.AxesSubplot object at 0x7f85ed68e6a0>],\n",
              "       [<matplotlib.axes._subplots.AxesSubplot object at 0x7f85ed68e6d8>]],\n",
              "      dtype=object)"
            ]
          },
          "metadata": {
            "tags": []
          },
          "execution_count": 3
        },
        {
          "output_type": "display_data",
          "data": {
            "image/png": "[encoded data removed]",
            "text/plain": [
              "<Figure size 432x288 with 9 Axes>"
            ]
          },
          "metadata": {
            "tags": []
          }
        }
      ]
    },
    {
      "cell_type": "code",
      "metadata": {
        "id": "cVyBcVLoTpQh",
        "colab_type": "code",
        "outputId": "51073ff6-be25-4352-9575-4dc34daea317",
        "colab": {
          "base_uri": "https://localhost:8080/",
          "height": 206
        }
      },
      "source": [
        "datasetNorm = dataset.drop('ocean_proximity', 1)\n",
        "datasetNorm = ((datasetNorm-datasetNorm.min())/(datasetNorm.max()-datasetNorm.min()))*50\n",
        "dataset = datasetNorm\n",
        "dataset.head()"
      ],
      "execution_count": 4,
      "outputs": [
        {
          "output_type": "execute_result",
          "data": {
            "text/html": [
              "<div>\n",
              "<style scoped>\n",
              "    .dataframe tbody tr th:only-of-type {\n",
              "        vertical-align: middle;\n",
              "    }\n",
              "\n",
              "    .dataframe tbody tr th {\n",
              "        vertical-align: top;\n",
              "    }\n",
              "\n",
              "    .dataframe thead th {\n",
              "        text-align: right;\n",
              "    }\n",
              "</style>\n",
              "<table border=\"1\" class=\"dataframe\">\n",
              "  <thead>\n",
              "    <tr style=\"text-align: right;\">\n",
              "      <th></th>\n",
              "      <th>longitude</th>\n",
              "      <th>latitude</th>\n",
              "      <th>housing_median_age</th>\n",
              "      <th>total_rooms</th>\n",
              "      <th>total_bedrooms</th>\n",
              "      <th>population</th>\n",
              "      <th>households</th>\n",
              "      <th>median_income</th>\n",
              "      <th>median_house_value</th>\n",
              "    </tr>\n",
              "  </thead>\n",
              "  <tbody>\n",
              "    <tr>\n",
              "      <th>0</th>\n",
              "      <td>10.557769</td>\n",
              "      <td>28.374070</td>\n",
              "      <td>39.215686</td>\n",
              "      <td>1.116537</td>\n",
              "      <td>0.993172</td>\n",
              "      <td>0.447042</td>\n",
              "      <td>1.027791</td>\n",
              "      <td>26.983421</td>\n",
              "      <td>45.113319</td>\n",
              "    </tr>\n",
              "    <tr>\n",
              "      <th>1</th>\n",
              "      <td>10.607570</td>\n",
              "      <td>28.267800</td>\n",
              "      <td>19.607843</td>\n",
              "      <td>9.025128</td>\n",
              "      <td>8.573867</td>\n",
              "      <td>3.360520</td>\n",
              "      <td>9.348791</td>\n",
              "      <td>26.901353</td>\n",
              "      <td>35.412328</td>\n",
              "    </tr>\n",
              "    <tr>\n",
              "      <th>2</th>\n",
              "      <td>10.507968</td>\n",
              "      <td>28.214665</td>\n",
              "      <td>50.000000</td>\n",
              "      <td>1.863014</td>\n",
              "      <td>1.466480</td>\n",
              "      <td>0.690883</td>\n",
              "      <td>1.447130</td>\n",
              "      <td>23.301403</td>\n",
              "      <td>34.752537</td>\n",
              "    </tr>\n",
              "    <tr>\n",
              "      <th>3</th>\n",
              "      <td>10.458167</td>\n",
              "      <td>28.214665</td>\n",
              "      <td>50.000000</td>\n",
              "      <td>1.617580</td>\n",
              "      <td>1.815642</td>\n",
              "      <td>0.777768</td>\n",
              "      <td>1.792468</td>\n",
              "      <td>17.734928</td>\n",
              "      <td>33.639140</td>\n",
              "    </tr>\n",
              "    <tr>\n",
              "      <th>4</th>\n",
              "      <td>10.458167</td>\n",
              "      <td>28.214665</td>\n",
              "      <td>50.000000</td>\n",
              "      <td>2.066484</td>\n",
              "      <td>2.164804</td>\n",
              "      <td>0.787578</td>\n",
              "      <td>2.121362</td>\n",
              "      <td>11.538806</td>\n",
              "      <td>33.731923</td>\n",
              "    </tr>\n",
              "  </tbody>\n",
              "</table>\n",
              "</div>"
            ],
            "text/plain": [
              "   longitude   latitude  ...  median_income  median_house_value\n",
              "0  10.557769  28.374070  ...      26.983421           45.113319\n",
              "1  10.607570  28.267800  ...      26.901353           35.412328\n",
              "2  10.507968  28.214665  ...      23.301403           34.752537\n",
              "3  10.458167  28.214665  ...      17.734928           33.639140\n",
              "4  10.458167  28.214665  ...      11.538806           33.731923\n",
              "\n",
              "[5 rows x 9 columns]"
            ]
          },
          "metadata": {
            "tags": []
          },
          "execution_count": 4
        }
      ]
    },
    {
      "cell_type": "code",
      "metadata": {
        "id": "Eb1kXP2wT7xX",
        "colab_type": "code",
        "colab": {}
      },
      "source": [
        "Y = dataset['median_house_value']\n",
        "X = dataset.loc[:,'longitude':'median_income']\n",
        "x_train, x_test, y_train, y_test = train_test_split(X, Y, test_size=0.3, random_state=2003)\n",
        "\n",
        "x_train_np = x_train.to_numpy()\n",
        "y_train_np = y_train.to_numpy()\n",
        "x_test_np = x_test.to_numpy()\n",
        "y_test_np = y_test.to_numpy()"
      ],
      "execution_count": 0,
      "outputs": []
    },
    {
      "cell_type": "code",
      "metadata": {
        "id": "4QH11HHdT9Z9",
        "colab_type": "code",
        "colab": {}
      },
      "source": [
        "import torch\n",
        "from torch.nn import Conv1d\n",
        "from torch.nn import MaxPool1d\n",
        "from torch.nn import Flatten\n",
        "from torch.nn import Linear\n",
        "from torch.nn.functional import relu\n",
        "from torch.utils.data import DataLoader, TensorDataset\n",
        "from torch.nn import Dropout\n",
        "from torch.nn import BatchNorm1d"
      ],
      "execution_count": 0,
      "outputs": []
    },
    {
      "cell_type": "code",
      "metadata": {
        "id": "JUR-ZZRsUK4v",
        "colab_type": "code",
        "colab": {}
      },
      "source": [
        "class CnnRegressor(torch.nn.Module):\n",
        "  def __init__(self, batch_size, inputs, outputs):\n",
        "    super(CnnRegressor, self).__init__()\n",
        "    self.batch_size = batch_size\n",
        "    self.inputs = inputs\n",
        "    self.outputs = outputs\n",
        "\n",
        "    self.input_layer = Conv1d(inputs, 256, 1)\n",
        "    self.max_pooling_layer = MaxPool1d(1)\n",
        "    self.batch_norm = BatchNorm1d(256)\n",
        "    self.conv_layer = Conv1d(256, 512, 1)\n",
        "    self.batch_norm1 = BatchNorm1d(512)\n",
        "\n",
        "    #self.conv_layer2 = Conv1d(512, 1024, 1)\n",
        "    #self.batch_norm2 = BatchNorm1d(1024)\n",
        "    \n",
        "    self.flatten_layer = Flatten()\n",
        "    #self.linear_layer4 = Linear(1024, 2048)\n",
        "    #self.linear_layer5 = Linear(2048, 1024)\n",
        "    #self.linear_layer6 = Linear(1024, 512)\n",
        "    self.linear_layer = Linear(512, 8192)\n",
        "    self.linear_layer2 = Linear(8192,4096)\n",
        "    self.drop = Dropout(0.1)\n",
        "    self.linear_layer3 = Linear(4096,1024)\n",
        "    self.linear_layer4 = Linear(1024,128)\n",
        "    self.output_layer = Linear(128, outputs)\n",
        "\n",
        "  def feed(self, input):\n",
        "    input = input.reshape((self.batch_size, self.inputs, 1))\n",
        "    output = relu(self.input_layer(input))\n",
        "    output = self.max_pooling_layer(output)\n",
        "    output = self.batch_norm(output)\n",
        "    output = relu(self.conv_layer(output))\n",
        "    output = self.batch_norm1(output)\n",
        "\n",
        "    #output = relu(self.conv_layer2(output))\n",
        "    #output = self.batch_norm2(output)\n",
        "\n",
        "    output = self.flatten_layer(output)\n",
        "    #output = self.linear_layer4(output)\n",
        "    #output = self.linear_layer5(output)\n",
        "    #output = self.linear_layer6(output)\n",
        "    output = self.linear_layer(output)\n",
        "    output = self.linear_layer2(output)\n",
        "    output = self.drop(output)\n",
        "    output = self.linear_layer3(output)\n",
        "    output = self.linear_layer4(output)\n",
        "    output = self.output_layer(output)\n",
        "    return output"
      ],
      "execution_count": 0,
      "outputs": []
    },
    {
      "cell_type": "code",
      "metadata": {
        "id": "2bQzoFI2UOXt",
        "colab_type": "code",
        "outputId": "3cfa3f0e-9132-40f2-eca2-1522c5f9592b",
        "colab": {
          "base_uri": "https://localhost:8080/",
          "height": 146
        }
      },
      "source": [
        "from torch.optim import SGD\n",
        "from torch.nn import L1Loss\n",
        "!pip install pytorch-ignite\n",
        "from ignite.contrib.metrics.regression.r2_score import R2Score"
      ],
      "execution_count": 8,
      "outputs": [
        {
          "output_type": "stream",
          "text": [
            "Collecting pytorch-ignite\n",
            "\u001b[?25l  Downloading https://files.pythonhosted.org/packages/35/55/41e8a995876fd2ade29bdba0c3efefa38e7d605cb353c70f3173c04928b5/pytorch_ignite-0.3.0-py2.py3-none-any.whl (103kB)\n",
            "\r\u001b[K     |███▏                            | 10kB 8.6MB/s eta 0:00:01\r\u001b[K     |██████▎                         | 20kB 1.4MB/s eta 0:00:01\r\u001b[K     |█████████▌                      | 30kB 1.7MB/s eta 0:00:01\r\u001b[K     |████████████▋                   | 40kB 1.5MB/s eta 0:00:01\r\u001b[K     |███████████████▉                | 51kB 1.7MB/s eta 0:00:01\r\u001b[K     |███████████████████             | 61kB 2.0MB/s eta 0:00:01\r\u001b[K     |██████████████████████▏         | 71kB 2.2MB/s eta 0:00:01\r\u001b[K     |█████████████████████████▎      | 81kB 2.1MB/s eta 0:00:01\r\u001b[K     |████████████████████████████▍   | 92kB 2.3MB/s eta 0:00:01\r\u001b[K     |███████████████████████████████▋| 102kB 2.6MB/s eta 0:00:01\r\u001b[K     |████████████████████████████████| 112kB 2.6MB/s \n",
            "\u001b[?25hRequirement already satisfied: torch in /usr/local/lib/python3.6/dist-packages (from pytorch-ignite) (1.4.0)\n",
            "Installing collected packages: pytorch-ignite\n",
            "Successfully installed pytorch-ignite-0.3.0\n"
          ],
          "name": "stdout"
        }
      ]
    },
    {
      "cell_type": "code",
      "metadata": {
        "id": "6VTDO64dURMo",
        "colab_type": "code",
        "outputId": "36cdc38d-9673-4a97-bd3e-9b7feda22556",
        "colab": {
          "base_uri": "https://localhost:8080/",
          "height": 271
        }
      },
      "source": [
        "batch_size = 64\n",
        "model = CnnRegressor(batch_size, X.shape[1], 1)\n",
        "model.cuda()"
      ],
      "execution_count": 17,
      "outputs": [
        {
          "output_type": "execute_result",
          "data": {
            "text/plain": [
              "CnnRegressor(\n",
              "  (input_layer): Conv1d(8, 256, kernel_size=(1,), stride=(1,))\n",
              "  (max_pooling_layer): MaxPool1d(kernel_size=1, stride=1, padding=0, dilation=1, ceil_mode=False)\n",
              "  (batch_norm): BatchNorm1d(256, eps=1e-05, momentum=0.1, affine=True, track_running_stats=True)\n",
              "  (conv_layer): Conv1d(256, 512, kernel_size=(1,), stride=(1,))\n",
              "  (batch_norm1): BatchNorm1d(512, eps=1e-05, momentum=0.1, affine=True, track_running_stats=True)\n",
              "  (flatten_layer): Flatten()\n",
              "  (linear_layer): Linear(in_features=512, out_features=8192, bias=True)\n",
              "  (linear_layer2): Linear(in_features=8192, out_features=4096, bias=True)\n",
              "  (drop): Dropout(p=0.1, inplace=False)\n",
              "  (linear_layer3): Linear(in_features=4096, out_features=1024, bias=True)\n",
              "  (linear_layer4): Linear(in_features=1024, out_features=128, bias=True)\n",
              "  (output_layer): Linear(in_features=128, out_features=1, bias=True)\n",
              ")"
            ]
          },
          "metadata": {
            "tags": []
          },
          "execution_count": 17
        }
      ]
    },
    {
      "cell_type": "code",
      "metadata": {
        "id": "0jybbVpFUfeG",
        "colab_type": "code",
        "colab": {}
      },
      "source": [
        "from torch.nn import MSELoss\n",
        "def model_loss(model, dataset, train = False, optimizer = None):\n",
        "  performance = L1Loss()\n",
        "  score_metric = R2Score()\n",
        "  mse = MSELoss()\n",
        "\n",
        "  avg_loss = 0\n",
        "  avg_score = 0\n",
        "  avg_mse = 0\n",
        "  count = 0\n",
        "  for input, output in iter(dataset):\n",
        "    predictions = model.feed(input)\n",
        "    loss = performance(predictions, output)\n",
        "    mse_loss = mse(predictions, output)\n",
        "    score_metric.update([predictions, output])\n",
        "    score = score_metric.compute()\n",
        "\n",
        "    if(train):\n",
        "      optimizer.zero_grad()\n",
        "      loss.backward()\n",
        "      optimizer.step()\n",
        "\n",
        "    avg_loss += loss.item()\n",
        "    avg_score += score\n",
        "    avg_mse += mse_loss.item()\n",
        "    count += 1\n",
        "\n",
        "  return avg_loss / count, avg_score / count, avg_mse/count"
      ],
      "execution_count": 0,
      "outputs": []
    },
    {
      "cell_type": "code",
      "metadata": {
        "id": "KwWtWl1LUh0D",
        "colab_type": "code",
        "outputId": "6d785764-9c28-40d5-d99d-ca2f49c44f1a",
        "colab": {
          "base_uri": "https://localhost:8080/",
          "height": 1000
        }
      },
      "source": [
        "epochs = 50\n",
        "optimizer = SGD(model.parameters(), lr=0.0001)\n",
        "\n",
        "inputs = torch.from_numpy(x_train_np).cuda().float()\n",
        "outputs = torch.from_numpy(y_train_np.reshape(y_train_np.shape[0],1)).cuda().float()\n",
        "\n",
        "tensor = TensorDataset(inputs, outputs)\n",
        "loader = DataLoader(tensor, batch_size, shuffle=True, drop_last=True)\n",
        "losses = []\n",
        "scores = []\n",
        "mses = []\n",
        "for epoch in range(epochs):\n",
        "  avg_loss, avg_r2_score, avg_mse = model_loss(model, loader, train=True, optimizer=optimizer)\n",
        "  losses.append(avg_loss)\n",
        "  scores.append(avg_r2_score)\n",
        "  mses.append(avg_mse)\n",
        "  print(\"Epoch\", epoch+1, ':\\n\\tLoss=', avg_loss, ':\\n\\tScore=', avg_r2_score, '\\n\\tMSE=', avg_mse)"
      ],
      "execution_count": 18,
      "outputs": [
        {
          "output_type": "stream",
          "text": [
            "Epoch 1 :\n",
            "\tLoss= 19.816283059227093 :\n",
            "\tScore= -2.7929578797079655 \n",
            "\tMSE= 533.6697165998108\n",
            "Epoch 2 :\n",
            "\tLoss= 19.775831205427913 :\n",
            "\tScore= -2.8068752024024466 \n",
            "\tMSE= 532.0295802916112\n",
            "Epoch 3 :\n",
            "\tLoss= 19.728655259170875 :\n",
            "\tScore= -2.726817806925447 \n",
            "\tMSE= 530.380494806264\n",
            "Epoch 4 :\n",
            "\tLoss= 19.685259695010334 :\n",
            "\tScore= -2.7187931573643334 \n",
            "\tMSE= 528.6197225117363\n",
            "Epoch 5 :\n",
            "\tLoss= 19.634234629404386 :\n",
            "\tScore= -2.7171033872591925 \n",
            "\tMSE= 526.5664327989244\n",
            "Epoch 6 :\n",
            "\tLoss= 19.580703046824365 :\n",
            "\tScore= -2.717527231762087 \n",
            "\tMSE= 524.5186149015555\n",
            "Epoch 7 :\n",
            "\tLoss= 19.546811407457017 :\n",
            "\tScore= -2.7024284168946635 \n",
            "\tMSE= 523.3137328827862\n",
            "Epoch 8 :\n",
            "\tLoss= 19.4948078506196 :\n",
            "\tScore= -2.696332860658847 \n",
            "\tMSE= 521.3418540783528\n",
            "Epoch 9 :\n",
            "\tLoss= 19.445561310635554 :\n",
            "\tScore= -2.7225036575738226 \n",
            "\tMSE= 519.4962264946223\n",
            "Epoch 10 :\n",
            "\tLoss= 19.38833974829704 :\n",
            "\tScore= -2.6665272950243915 \n",
            "\tMSE= 517.2645263671875\n",
            "Epoch 11 :\n",
            "\tLoss= 19.337930439833567 :\n",
            "\tScore= -2.6887594955480454 \n",
            "\tMSE= 515.3783130047033\n",
            "Epoch 12 :\n",
            "\tLoss= 19.28644187140358 :\n",
            "\tScore= -2.660855805979449 \n",
            "\tMSE= 513.3840935540306\n",
            "Epoch 13 :\n",
            "\tLoss= 19.21944989003408 :\n",
            "\tScore= -2.6314926079086165 \n",
            "\tMSE= 510.76580085241204\n",
            "Epoch 14 :\n",
            "\tLoss= 19.154691020469496 :\n",
            "\tScore= -2.594998702330502 \n",
            "\tMSE= 508.3565090846588\n",
            "Epoch 15 :\n",
            "\tLoss= 19.086493680295387 :\n",
            "\tScore= -2.559993613408445 \n",
            "\tMSE= 505.83786476032617\n",
            "Epoch 16 :\n",
            "\tLoss= 19.005605590717675 :\n",
            "\tScore= -2.5561150780383843 \n",
            "\tMSE= 502.7498152523297\n",
            "Epoch 17 :\n",
            "\tLoss= 18.9353318406862 :\n",
            "\tScore= -2.565733414639154 \n",
            "\tMSE= 500.2936806443561\n",
            "Epoch 18 :\n",
            "\tLoss= 18.841807207184523 :\n",
            "\tScore= -2.5531081066428145 \n",
            "\tMSE= 496.71683286658316\n",
            "Epoch 19 :\n",
            "\tLoss= 18.74360033642551 :\n",
            "\tScore= -2.5281019419784214 \n",
            "\tMSE= 493.12762451171875\n",
            "Epoch 20 :\n",
            "\tLoss= 18.64273347982911 :\n",
            "\tScore= -2.478241582141687 \n",
            "\tMSE= 489.63863013571154\n",
            "Epoch 21 :\n",
            "\tLoss= 18.51847884687073 :\n",
            "\tScore= -2.422682275599814 \n",
            "\tMSE= 485.0764197105784\n",
            "Epoch 22 :\n",
            "\tLoss= 18.373956684574416 :\n",
            "\tScore= -2.399140010881221 \n",
            "\tMSE= 479.8217863758583\n",
            "Epoch 23 :\n",
            "\tLoss= 18.214778374128812 :\n",
            "\tScore= -2.340337326375931 \n",
            "\tMSE= 474.32171740339476\n",
            "Epoch 24 :\n",
            "\tLoss= 18.01837411803515 :\n",
            "\tScore= -2.335585594643089 \n",
            "\tMSE= 467.305873443193\n",
            "Epoch 25 :\n",
            "\tLoss= 17.793656798221605 :\n",
            "\tScore= -2.297647317584433 \n",
            "\tMSE= 459.63248912315197\n",
            "Epoch 26 :\n",
            "\tLoss= 17.509110946826336 :\n",
            "\tScore= -2.195617003127861 \n",
            "\tMSE= 449.96750664817915\n",
            "Epoch 27 :\n",
            "\tLoss= 17.151095813699904 :\n",
            "\tScore= -2.1536476716349604 \n",
            "\tMSE= 438.09112124592735\n",
            "Epoch 28 :\n",
            "\tLoss= 16.680737923079008 :\n",
            "\tScore= -2.015028802491042 \n",
            "\tMSE= 421.9122815324587\n",
            "Epoch 29 :\n",
            "\tLoss= 16.05463463736222 :\n",
            "\tScore= -1.8555128529265708 \n",
            "\tMSE= 399.50863469555776\n",
            "Epoch 30 :\n",
            "\tLoss= 15.178447958599826 :\n",
            "\tScore= -1.6463089833073126 \n",
            "\tMSE= 366.7419602603656\n",
            "Epoch 31 :\n",
            "\tLoss= 13.87785096446495 :\n",
            "\tScore= -1.3945751019964212 \n",
            "\tMSE= 318.69089176195087\n",
            "Epoch 32 :\n",
            "\tLoss= 11.824878887210726 :\n",
            "\tScore= -0.8994388105278653 \n",
            "\tMSE= 246.38040274034168\n",
            "Epoch 33 :\n",
            "\tLoss= 8.783454830871035 :\n",
            "\tScore= -0.2130211420410999 \n",
            "\tMSE= 149.13489087707794\n",
            "Epoch 34 :\n",
            "\tLoss= 5.998083725103883 :\n",
            "\tScore= 0.35913573861941933 \n",
            "\tMSE= 77.80643135549776\n",
            "Epoch 35 :\n",
            "\tLoss= 5.071362856792228 :\n",
            "\tScore= 0.592661234994805 \n",
            "\tMSE= 55.841352343024695\n",
            "Epoch 36 :\n",
            "\tLoss= 4.847226154643859 :\n",
            "\tScore= 0.6436155020129766 \n",
            "\tMSE= 49.890079669353675\n",
            "Epoch 37 :\n",
            "\tLoss= 4.7148423323182245 :\n",
            "\tScore= 0.6609133876304403 \n",
            "\tMSE= 47.02288767895891\n",
            "Epoch 38 :\n",
            "\tLoss= 4.6606672740303345 :\n",
            "\tScore= 0.6796932461443994 \n",
            "\tMSE= 45.82859772310129\n",
            "Epoch 39 :\n",
            "\tLoss= 4.574292650137247 :\n",
            "\tScore= 0.6785638213168905 \n",
            "\tMSE= 44.7846869310456\n",
            "Epoch 40 :\n",
            "\tLoss= 4.515021307051449 :\n",
            "\tScore= 0.690869810165813 \n",
            "\tMSE= 43.48851932645378\n",
            "Epoch 41 :\n",
            "\tLoss= 4.500347330965804 :\n",
            "\tScore= 0.6906143516904775 \n",
            "\tMSE= 43.47672403446762\n",
            "Epoch 42 :\n",
            "\tLoss= 4.495372551973625 :\n",
            "\tScore= 0.687336787575548 \n",
            "\tMSE= 43.43435286620273\n",
            "Epoch 43 :\n",
            "\tLoss= 4.48707693253932 :\n",
            "\tScore= 0.6930854375170323 \n",
            "\tMSE= 42.89241905383465\n",
            "Epoch 44 :\n",
            "\tLoss= 4.438328037347494 :\n",
            "\tScore= 0.7020950754984896 \n",
            "\tMSE= 42.33934746729419\n",
            "Epoch 45 :\n",
            "\tLoss= 4.394322366457883 :\n",
            "\tScore= 0.7105325188994317 \n",
            "\tMSE= 41.39410436313783\n",
            "Epoch 46 :\n",
            "\tLoss= 4.38623379484955 :\n",
            "\tScore= 0.7047938620825704 \n",
            "\tMSE= 41.513639612582764\n",
            "Epoch 47 :\n",
            "\tLoss= 4.367626806011114 :\n",
            "\tScore= 0.7025165357871347 \n",
            "\tMSE= 41.355807941590726\n",
            "Epoch 48 :\n",
            "\tLoss= 4.382076986167463 :\n",
            "\tScore= 0.7113773070576581 \n",
            "\tMSE= 41.199649921981745\n",
            "Epoch 49 :\n",
            "\tLoss= 4.353786433224186 :\n",
            "\tScore= 0.7075064158844904 \n",
            "\tMSE= 40.693722908806905\n",
            "Epoch 50 :\n",
            "\tLoss= 4.298799960602559 :\n",
            "\tScore= 0.7096065070626151 \n",
            "\tMSE= 40.03427195869754\n"
          ],
          "name": "stdout"
        }
      ]
    },
    {
      "cell_type": "code",
      "metadata": {
        "id": "8T4lp_euUlVu",
        "colab_type": "code",
        "outputId": "23a815c3-7f61-4216-8e63-926644866b6a",
        "colab": {
          "base_uri": "https://localhost:8080/",
          "height": 72
        }
      },
      "source": [
        "inputs = torch.from_numpy(x_test_np).cuda().float()\n",
        "outputs = torch.from_numpy(y_test_np.reshape(y_test_np.shape[0],1)).cuda().float()\n",
        "\n",
        "tensor = TensorDataset(inputs, outputs)\n",
        "loader = DataLoader(tensor, batch_size, shuffle=True, drop_last=True)\n",
        "\n",
        "avg_loss, avg_r2_score, avg_mse = model_loss(model, loader)\n",
        "print('Model Loss = ', avg_loss)\n",
        "print('Model R2Score = ', avg_r2_score)\n",
        "print('MSE=', avg_mse)\n",
        "model_save_name = '1121117_1dconv_reg.pt'\n",
        "path = F\"/content/drive/My Drive/{model_save_name}\" \n",
        "torch.save(model.state_dict(), path)"
      ],
      "execution_count": 19,
      "outputs": [
        {
          "output_type": "stream",
          "text": [
            "Model Loss =  4.391616286729511\n",
            "Model R2Score =  0.7137306363598173\n",
            "MSE= 41.07003733986303\n"
          ],
          "name": "stdout"
        }
      ]
    },
    {
      "cell_type": "code",
      "metadata": {
        "id": "VVNMCpyf09Aw",
        "colab_type": "code",
        "outputId": "dc677576-add4-4baa-d349-dcb2d867831d",
        "colab": {
          "base_uri": "https://localhost:8080/",
          "height": 791
        }
      },
      "source": [
        "import matplotlib.pyplot as plt\n",
        "\n",
        "plt.xlabel(\"X-axis\")\n",
        "plt.ylabel(\"Y-axis\")\n",
        "plt.title(\"A test graph\")\n",
        "plt.plot(losses, label = 'L1 Loss')\n",
        "plt.legend()\n",
        "plt.show()\n",
        "plt.plot(scores, label = 'R2 Score')\n",
        "plt.legend()\n",
        "plt.show()\n",
        "plt.plot(mses, label = 'MSE')\n",
        "plt.legend()\n",
        "plt.show()"
      ],
      "execution_count": 20,
      "outputs": [
        {
          "output_type": "display_data",
          "data": {
            "image/png": "[encoded data removed]",
            "text/plain": [
              "<Figure size 432x288 with 1 Axes>"
            ]
          },
          "metadata": {
            "tags": []
          }
        },
        {
          "output_type": "display_data",
          "data": {
            "image/png": "[encoded data removed]",
            "text/plain": [
              "<Figure size 432x288 with 1 Axes>"
            ]
          },
          "metadata": {
            "tags": []
          }
        },
        {
          "output_type": "display_data",
          "data": {
            "image/png": "[encoded data removed]",
            "text/plain": [
              "<Figure size 432x288 with 1 Axes>"
            ]
          },
          "metadata": {
            "tags": []
          }
        }
      ]
    }
  ]
}